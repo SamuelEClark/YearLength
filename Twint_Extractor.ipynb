{
 "cells": [
  {
   "cell_type": "markdown",
   "metadata": {},
   "source": [
    "Extraction code for conversion of a raw csv file produced by Twint into a useable xlsx file. Input data is produced by running the command >>>twint -u \"<username>\" --stats --since 2015-01-01 -o <filename>.csv --csv"
   ]
  },
  {
   "cell_type": "code",
   "execution_count": 2,
   "metadata": {},
   "outputs": [],
   "source": [
    "import csv\n",
    "import os\n",
    "from datetime import datetime\n",
    "from matplotlib.dates import ( \n",
    "    DateFormatter, AutoDateLocator, AutoDateFormatter, datestr2num \n",
    ")\n",
    "import xlsxwriter"
   ]
  },
  {
   "cell_type": "code",
   "execution_count": 6,
   "metadata": {},
   "outputs": [],
   "source": [
    "#take date in YYYY-MM-DD format and time in hh:mm:ss and convert into timestamp of int-minutes since 0001-01-01\n",
    "def compress_datetime(date, time):\n",
    "    date_num = datestr2num(data[0][3])\n",
    "    timearr = data[0][4].split(\":\")\n",
    "    time_num = (int(timearr[0])*60)+int(timearr[1])\n",
    "    stamp = int((date_num*1440)+time_num)\n",
    "    return stamp"
   ]
  },
  {
   "cell_type": "code",
   "execution_count": 9,
   "metadata": {
    "scrolled": true
   },
   "outputs": [
    {
     "name": "stdout",
     "output_type": "stream",
     "text": [
      "Type CSV file name, omitting .csv: trump_test\n"
     ]
    }
   ],
   "source": [
    "file_path = input(\"Type CSV file name, omitting .csv: \")\n",
    "\n",
    "with open(\"{}.csv\".format(file_path), encoding=\"utf-8\") as f:\n",
    "    file = f.readlines()\n",
    "    headers = file[0].split(\"\\t\")\n",
    "    data = [line.split(\"\\t\") for line in file[1:]]\n",
    "    \n",
    "    #don't need all data from the file (just id/timestamp/username/replies/retweets/likes)\n",
    "    con_data = [[item[0], compress_datetime(item[3], item[4]), item[7], int(item[15]), int(item[16]), int(item[17])] for item in data]"
   ]
  },
  {
   "cell_type": "markdown",
   "metadata": {},
   "source": []
  },
  {
   "cell_type": "code",
   "execution_count": 10,
   "metadata": {},
   "outputs": [],
   "source": [
    "#finally, write extracted data neatly into an Excel (.xlsx) file\n",
    "workbook = xlsxwriter.Workbook(\"{}_data.xlsx\".format(file_path))\n",
    "worksheet = workbook.add_worksheet()\n",
    "        \n",
    "row = 0\n",
    "col = 0\n",
    "\n",
    "#header block\n",
    "worksheet.write(row, col, \"Tweet ID\")\n",
    "worksheet.write(row, col + 1, \"Timestamp\")\n",
    "worksheet.write(row, col + 2, \"Username\")\n",
    "worksheet.write(row, col + 3, \"Reply no.\")\n",
    "worksheet.write(row, col + 4, \"Retweets\")\n",
    "worksheet.write(row, col + 5, \"Likes\")\n",
    "row += 1\n",
    "    \n",
    "for dehyd, datetime, user, replies, retweets, likes in con_data:\n",
    "    worksheet.write(row, col, dehyd)\n",
    "    worksheet.write(row, col + 1, datetime)\n",
    "    worksheet.write(row, col + 2, user)\n",
    "    worksheet.write(row, col + 3, replies)\n",
    "    worksheet.write(row, col + 4, retweets)\n",
    "    worksheet.write(row, col + 5, likes)\n",
    "    row += 1\n",
    "    \n",
    "workbook.close()"
   ]
  },
  {
   "cell_type": "code",
   "execution_count": null,
   "metadata": {},
   "outputs": [],
   "source": []
  }
 ],
 "metadata": {
  "kernelspec": {
   "display_name": "Python 3",
   "language": "python",
   "name": "python3"
  },
  "language_info": {
   "codemirror_mode": {
    "name": "ipython",
    "version": 3
   },
   "file_extension": ".py",
   "mimetype": "text/x-python",
   "name": "python",
   "nbconvert_exporter": "python",
   "pygments_lexer": "ipython3",
   "version": "3.7.6"
  }
 },
 "nbformat": 4,
 "nbformat_minor": 4
}
