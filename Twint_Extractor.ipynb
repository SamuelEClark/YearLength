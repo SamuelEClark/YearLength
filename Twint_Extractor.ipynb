{
 "cells": [
  {
   "cell_type": "code",
   "execution_count": 10,
   "metadata": {},
   "outputs": [],
   "source": [
    "import csv\n",
    "import os\n",
    "from datetime import datetime\n",
    "from matplotlib.dates import ( \n",
    "    DateFormatter, AutoDateLocator, AutoDateFormatter, datestr2num \n",
    ")"
   ]
  },
  {
   "cell_type": "code",
   "execution_count": 17,
   "metadata": {},
   "outputs": [],
   "source": [
    "#take date in YYYY-MM-DD format and time in hh:mm:ss and convert into timestamp of int-minutes since 0001-01-01\n",
    "def compress_datetime(date, time):\n",
    "    date_num = datestr2num(data[0][3])\n",
    "    timearr = data[0][4].split(\":\")\n",
    "    time_num = (int(timearr[0])*60)+int(timearr[1])\n",
    "    stamp = int((date_num*1440)+time_num)\n",
    "    return stamp"
   ]
  },
  {
   "cell_type": "code",
   "execution_count": 20,
   "metadata": {
    "scrolled": true
   },
   "outputs": [
    {
     "name": "stdout",
     "output_type": "stream",
     "text": [
      "['1333858605179809792', 1062375580, 'realdonaldtrump', 9, 10, 24]\n",
      "['1333857049294344194', 1062375580, 'realdonaldtrump', 3703, 4286, 21033]\n",
      "['1333856259662077954', 1062375580, 'realdonaldtrump', 4239, 7338, 23934]\n",
      "['1333846507993374726', 1062375580, 'realdonaldtrump', 5255, 12364, 41364]\n",
      "['1333846469007335426', 1062375580, 'realdonaldtrump', 1604, 7735, 24884]\n",
      "['1333846439194189826', 1062375580, 'realdonaldtrump', 1406, 7853, 25641]\n",
      "['1333846411985739776', 1062375580, 'realdonaldtrump', 1175, 7714, 25186]\n",
      "['1333846348345602051', 1062375580, 'realdonaldtrump', 1032, 6440, 21817]\n",
      "['1333846314766004224', 1062375580, 'realdonaldtrump', 1114, 6483, 22430]\n",
      "['1333846286341185542', 1062375580, 'realdonaldtrump', 958, 6796, 22995]\n",
      "['1333846259866742790', 1062375580, 'realdonaldtrump', 899, 6433, 22026]\n",
      "['1333846237108461568', 1062375580, 'realdonaldtrump', 1254, 7403, 26209]\n",
      "['1333780265609654273', 1062375580, 'realdonaldtrump', 8968, 19373, 68136]\n",
      "['1333780221649166336', 1062375580, 'realdonaldtrump', 5692, 13488, 54566]\n",
      "['1333780166577938432', 1062375580, 'realdonaldtrump', 4123, 12854, 58130]\n",
      "['1333777626222170113', 1062375580, 'realdonaldtrump', 6200, 17755, 71068]\n",
      "['1333772740483026944', 1062375580, 'realdonaldtrump', 17436, 31013, 137588]\n",
      "['1333771177005867008', 1062375580, 'realdonaldtrump', 5933, 20385, 73138]\n",
      "['1333637865255923712', 1062375580, 'realdonaldtrump', 23988, 49713, 222768]\n",
      "['1333616180154789888', 1062375580, 'realdonaldtrump', 9110, 22276, 108424]\n",
      "['1333615151904395264', 1062375580, 'realdonaldtrump', 8963, 23169, 106163]\n",
      "['1333614815533817856', 1062375580, 'realdonaldtrump', 13795, 33999, 184224]\n",
      "['1333610260381175813', 1062375580, 'realdonaldtrump', 10188, 23079, 112580]\n",
      "['1333558773152161793', 1062375580, 'realdonaldtrump', 31802, 38887, 218446]\n",
      "['1333558147512999938', 1062375580, 'realdonaldtrump', 8789, 21748, 88743]\n",
      "['1333556458575818754', 1062375580, 'realdonaldtrump', 10020, 27205, 133670]\n",
      "['1333556242984431616', 1062375580, 'realdonaldtrump', 17273, 25195, 91021]\n",
      "['1333464453778706433', 1062375580, 'realdonaldtrump', 43053, 54277, 244011]\n",
      "['1333458950038106113', 1062375580, 'realdonaldtrump', 22011, 35701, 221518]\n",
      "['1333422192261013504', 1062375580, 'realdonaldtrump', 15739, 25630, 162351]\n",
      "['1333410419554344964', 1062375580, 'realdonaldtrump', 12660, 26896, 119760]\n",
      "['1333410418119864320', 1062375580, 'realdonaldtrump', 25797, 46362, 192343]\n",
      "['1333405854297632770', 1062375580, 'realdonaldtrump', 68660, 82035, 470756]\n",
      "['1333245684011642881', 1062375580, 'realdonaldtrump', 82567, 61197, 300239]\n",
      "['1333244506871918599', 1062375580, 'realdonaldtrump', 10524, 40241, 163678]\n",
      "['1333243285389914112', 1062375580, 'realdonaldtrump', 35533, 60615, 266288]\n",
      "['1333220661670580228', 1062375580, 'realdonaldtrump', 12620, 25558, 124585]\n",
      "['1333217873758654464', 1062375580, 'realdonaldtrump', 18380, 24318, 184146]\n",
      "['1333215466022727686', 1062375580, 'realdonaldtrump', 27491, 42863, 189523]\n",
      "['1333207778643628032', 1062375580, 'realdonaldtrump', 39634, 61179, 276650]\n",
      "['1333084506841108483', 1062375580, 'realdonaldtrump', 29768, 32656, 165749]\n",
      "['1333084358446551042', 1062375580, 'realdonaldtrump', 12055, 25404, 118487]\n",
      "['1333084321863888896', 1062375580, 'realdonaldtrump', 9801, 26153, 116874]\n",
      "['1333084257858834438', 1062375580, 'realdonaldtrump', 10690, 26152, 120963]\n",
      "['1333048188224360451', 1062375580, 'realdonaldtrump', 28394, 24776, 190741]\n",
      "['1332847732218863616', 1062375580, 'realdonaldtrump', 38418, 44739, 188266]\n"
     ]
    }
   ],
   "source": [
    "with open(\"trump_test.csv\", encoding=\"utf-8\") as f:\n",
    "    file = f.readlines()\n",
    "    headers = file[0].split(\"\\t\")\n",
    "    data = [line.split(\"\\t\") for line in file[1:]]\n",
    "    \n",
    "    #don't need all data from the file (just id/timestamp/username/replies/retweets/likes)\n",
    "    con_data = [[item[0], compress_datetime(item[3], item[4]), item[7], int(item[15]), int(item[16]), int(item[17])] for item in data]\n",
    "    \n",
    "for tweet in con_data:\n",
    "    print(tweet)"
   ]
  },
  {
   "cell_type": "markdown",
   "metadata": {},
   "source": []
  },
  {
   "cell_type": "code",
   "execution_count": null,
   "metadata": {},
   "outputs": [],
   "source": []
  },
  {
   "cell_type": "code",
   "execution_count": null,
   "metadata": {},
   "outputs": [],
   "source": []
  }
 ],
 "metadata": {
  "kernelspec": {
   "display_name": "Python 3",
   "language": "python",
   "name": "python3"
  },
  "language_info": {
   "codemirror_mode": {
    "name": "ipython",
    "version": 3
   },
   "file_extension": ".py",
   "mimetype": "text/x-python",
   "name": "python",
   "nbconvert_exporter": "python",
   "pygments_lexer": "ipython3",
   "version": "3.7.6"
  }
 },
 "nbformat": 4,
 "nbformat_minor": 4
}
