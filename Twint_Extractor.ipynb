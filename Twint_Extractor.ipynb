{
 "cells": [
  {
   "cell_type": "code",
   "execution_count": 3,
   "metadata": {},
   "outputs": [],
   "source": [
    "import csv\n",
    "import os"
   ]
  },
  {
   "cell_type": "code",
   "execution_count": 21,
   "metadata": {},
   "outputs": [
    {
     "name": "stdout",
     "output_type": "stream",
     "text": [
      "0. id: 1333858605179809792\n",
      "1. conversation_id: 1333858605179809792\n",
      "2. created_at: 2020-12-01 19:40:48 GMT Standard Time\n",
      "3. date: 2020-12-01\n",
      "4. time: 19:40:48\n",
      "5. timezone: -0000\n",
      "6. user_id: 25073877\n",
      "7. username: realdonaldtrump\n",
      "8. name: Donald J. Trump\n",
      "9. place: \n",
      "10. tweet: LIVE NOW! Press Conference by Amistad Project: “Election Whistleblowers Come Forward”  https://t.co/Yjh1GsxGvS\n",
      "11. language: en\n",
      "12. mentions: []\n",
      "13. urls: ['https://www.youtube.com/watch?v=av-yC4mR5xo']\n",
      "14. photos: []\n",
      "15. replies_count: 9\n",
      "16. retweets_count: 10\n",
      "17. likes_count: 24\n",
      "18. hashtags: []\n",
      "19. cashtags: []\n",
      "20. link: https://twitter.com/realDonaldTrump/status/1333858605179809792\n",
      "21. retweet: False\n",
      "22. quote_url: \n",
      "23. video: 0\n",
      "24. thumbnail: \n",
      "25. near: \n",
      "26. geo: \n",
      "27. source: \n",
      "28. user_rt_id: \n",
      "29. user_rt: \n",
      "30. retweet_id: \n",
      "31. reply_to: []\n",
      "32. retweet_date: \n",
      "33. translate: \n",
      "34. trans_src: \n",
      "35. trans_dest\n",
      ": \n",
      "\n"
     ]
    }
   ],
   "source": [
    "with open(\"trump_test.csv\", encoding=\"utf-8\") as f:\n",
    "    file = f.readlines()\n",
    "    headers = file[0].split(\"\\t\")\n",
    "    data = [line.split(\"\\t\") for line in file[1:]]\n",
    "    \n",
    "    for n in range(len(headers)):\n",
    "        print(\"{}. {}: {}\".format(n, headers[n], data[0][n]))"
   ]
  },
  {
   "cell_type": "code",
   "execution_count": null,
   "metadata": {},
   "outputs": [],
   "source": []
  }
 ],
 "metadata": {
  "kernelspec": {
   "display_name": "Python 3",
   "language": "python",
   "name": "python3"
  },
  "language_info": {
   "codemirror_mode": {
    "name": "ipython",
    "version": 3
   },
   "file_extension": ".py",
   "mimetype": "text/x-python",
   "name": "python",
   "nbconvert_exporter": "python",
   "pygments_lexer": "ipython3",
   "version": "3.7.6"
  }
 },
 "nbformat": 4,
 "nbformat_minor": 4
}
