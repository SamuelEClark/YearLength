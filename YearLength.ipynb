{
 "cells": [
  {
   "cell_type": "markdown",
   "metadata": {},
   "source": [
    "# How many years long was 2020?\n",
    "Processing Twitter data to assess the \"year-length\" of 2020 based on the media cycle. Importing analytics from major news sites (BBC, CNN, Bloomberg) and comparing their engagement to an historical average. Establish a threshold engagement for a big news story (a.k.a. blockbuster headlines), then compare no. of blockbuster headlines for 2020 vs. previous years."
   ]
  },
  {
   "cell_type": "code",
   "execution_count": 2,
   "metadata": {},
   "outputs": [],
   "source": [
    "import datetime\n",
    "import pandas as pd\n",
    "import numpy as np\n",
    "from searchtweets import ResultStream, gen_rule_payload, load_credentials\n",
    "import os\n",
    "import json\n",
    "from requests_oauthlib import OAuth1Session"
   ]
  },
  {
   "cell_type": "markdown",
   "metadata": {},
   "source": [
    "Secure method for key transfer. Only users with *keys* file can access API."
   ]
  },
  {
   "cell_type": "code",
   "execution_count": 3,
   "metadata": {},
   "outputs": [],
   "source": [
    "f = open(\"keys.txt\", \"r\").readlines()\n",
    "os.environ[\"CONSUMER_KEY\"] = f[0].split('\"')[1]\n",
    "os.environ[\"CONSUMER_SECRET\"] = f[1].split('\"')[1]\n",
    "os.environ[\"BEARER_TOKEN\"] = f[2].split('\"')[1]"
   ]
  },
  {
   "cell_type": "code",
   "execution_count": 13,
   "metadata": {},
   "outputs": [
    {
     "name": "stdout",
     "output_type": "stream",
     "text": [
      "fAckQ23McRN9QXkYisy9lswWL\n"
     ]
    },
    {
     "data": {
      "text/plain": [
       "'\\n# You can adjust ids to include a single Tweets\\n# Or you can add to up to 100 comma-separated IDs\\nparams = {\"ids\": \"1278747501642657792\", \"tweet.fields\": \"created_at\"}\\n# Tweet fields are adjustable.\\n# Options include:\\n# attachments, author_id, context_annotations,\\n# conversation_id, created_at, entities, geo, id,\\n# in_reply_to_user_id, lang, non_public_metrics, organic_metrics,\\n# possibly_sensitive, promoted_metrics, public_metrics, referenced_tweets,\\n# source, text, and withheld\\n\\nrequest_token_url = \"https://api.twitter.com/oauth/request_token\"\\noauth = OAuth1Session(consumer_key, client_secret=consumer_secret)\\n\\ntry:\\n    fetch_response = oauth.fetch_request_token(request_token_url)\\nexcept ValueError:\\n    print(\\n        \"There may have been an issue with the consumer_key or consumer_secret you entered.\"\\n    )\\n\\nresource_owner_key = fetch_response.get(\"oauth_token\")\\nresource_owner_secret = fetch_response.get(\"oauth_token_secret\")\\nprint(\"Got OAuth token: %s\" % resource_owner_key)\\n\\n# Get authorization\\nbase_authorization_url = \"https://api.twitter.com/oauth/authorize\"\\nauthorization_url = oauth.authorization_url(base_authorization_url)\\nprint(\"Please go here and authorize: %s\" % authorization_url)\\nverifier = input(\"Paste the PIN here: \")\\n\\n# Get the access token\\naccess_token_url = \"https://api.twitter.com/oauth/access_token\"\\noauth = OAuth1Session(\\n    consumer_key,\\n    client_secret=consumer_secret,\\n    resource_owner_key=resource_owner_key,\\n    resource_owner_secret=resource_owner_secret,\\n    verifier=verifier,\\n)\\noauth_tokens = oauth.fetch_access_token(access_token_url)\\n\\n\\naccess_token = oauth_tokens[\"oauth_token\"]\\naccess_token_secret = oauth_tokens[\"oauth_token_secret\"]\\n\\n# Make the request\\noauth = OAuth1Session(\\n    consumer_key,\\n    client_secret=consumer_secret,\\n    resource_owner_key=access_token,\\n    resource_owner_secret=access_token_secret,\\n)\\n\\nresponse = oauth.get(\\n    \"https://api.twitter.com/2/tweets\", params=params\\n)\\n\\nif response.status_code != 200:\\n    raise Exception(\\n        \"Request returned an error: {} {}\".format(response.status_code, response.text)\\n    )\\n\\nprint(\"Response code: {}\".format(response.status_code))\\njson_response = response.json()\\nprint(json.dumps(json_response, indent=4, sort_keys=True))\\n'"
      ]
     },
     "execution_count": 13,
     "metadata": {},
     "output_type": "execute_result"
    }
   ],
   "source": [
    "consumer_key = os.environ.get(\"CONSUMER_KEY\")\n",
    "consumer_secret = os.environ.get(\"CONSUMER_SECRET\")\n",
    "\n",
    "# You can adjust ids to include a single Tweets\n",
    "# Or you can add to up to 100 comma-separated IDs\n",
    "params = {\"ids\": \"1278747501642657792\", \"tweet.fields\": \"created_at\"}\n",
    "# Tweet fields are adjustable.\n",
    "# Options include:\n",
    "# attachments, author_id, context_annotations,\n",
    "# conversation_id, created_at, entities, geo, id,\n",
    "# in_reply_to_user_id, lang, non_public_metrics, organic_metrics,\n",
    "# possibly_sensitive, promoted_metrics, public_metrics, referenced_tweets,\n",
    "# source, text, and withheld\n",
    "\n",
    "request_token_url = \"https://api.twitter.com/oauth/request_token\"\n",
    "oauth = OAuth1Session(consumer_key, client_secret=consumer_secret)\n",
    "\n",
    "try:\n",
    "    fetch_response = oauth.fetch_request_token(request_token_url)\n",
    "except ValueError:\n",
    "    print(\n",
    "        \"There may have been an issue with the consumer_key or consumer_secret you entered.\"\n",
    "    )\n",
    "\n",
    "resource_owner_key = fetch_response.get(\"oauth_token\")\n",
    "resource_owner_secret = fetch_response.get(\"oauth_token_secret\")\n",
    "print(\"Got OAuth token: %s\" % resource_owner_key)\n",
    "\n",
    "# Get authorization\n",
    "base_authorization_url = \"https://api.twitter.com/oauth/authorize\"\n",
    "authorization_url = oauth.authorization_url(base_authorization_url)\n",
    "print(\"Please go here and authorize: %s\" % authorization_url)\n",
    "verifier = input(\"Paste the PIN here: \")\n",
    "\n",
    "# Get the access token\n",
    "access_token_url = \"https://api.twitter.com/oauth/access_token\"\n",
    "oauth = OAuth1Session(\n",
    "    consumer_key,\n",
    "    client_secret=consumer_secret,\n",
    "    resource_owner_key=resource_owner_key,\n",
    "    resource_owner_secret=resource_owner_secret,\n",
    "    verifier=verifier,\n",
    ")\n",
    "oauth_tokens = oauth.fetch_access_token(access_token_url)\n",
    "\n",
    "\n",
    "access_token = oauth_tokens[\"oauth_token\"]\n",
    "access_token_secret = oauth_tokens[\"oauth_token_secret\"]\n",
    "\n",
    "# Make the request\n",
    "oauth = OAuth1Session(\n",
    "    consumer_key,\n",
    "    client_secret=consumer_secret,\n",
    "    resource_owner_key=access_token,\n",
    "    resource_owner_secret=access_token_secret,\n",
    ")\n",
    "\n",
    "response = oauth.get(\n",
    "    \"https://api.twitter.com/2/tweets\", params=params\n",
    ")\n",
    "\n",
    "if response.status_code != 200:\n",
    "    raise Exception(\n",
    "        \"Request returned an error: {} {}\".format(response.status_code, response.text)\n",
    "    )\n",
    "\n",
    "print(\"Response code: {}\".format(response.status_code))\n",
    "json_response = response.json()\n",
    "print(json.dumps(json_response, indent=4, sort_keys=True))"
   ]
  },
  {
   "cell_type": "code",
   "execution_count": null,
   "metadata": {},
   "outputs": [],
   "source": []
  }
 ],
 "metadata": {
  "kernelspec": {
   "display_name": "Python 3",
   "language": "python",
   "name": "python3"
  },
  "language_info": {
   "codemirror_mode": {
    "name": "ipython",
    "version": 3
   },
   "file_extension": ".py",
   "mimetype": "text/x-python",
   "name": "python",
   "nbconvert_exporter": "python",
   "pygments_lexer": "ipython3",
   "version": "3.7.6"
  }
 },
 "nbformat": 4,
 "nbformat_minor": 4
}
